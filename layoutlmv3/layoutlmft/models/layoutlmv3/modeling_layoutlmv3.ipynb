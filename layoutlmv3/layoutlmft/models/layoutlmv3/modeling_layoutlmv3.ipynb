{
 "cells": [
  {
   "cell_type": "code",
   "execution_count": 3,
   "metadata": {},
   "outputs": [],
   "source": [
    "import math\n",
    "\n",
    "import torch\n",
    "import torch.nn as nn\n",
    "import torch.nn.functional as F\n",
    "import torch.utils.checkpoint\n",
    "from torch.nn import BCEWithLogitsLoss, CrossEntropyLoss, MSELoss\n",
    "\n",
    "from transformers import apply_chunking_to_forward\n",
    "from transformers.modeling_outputs import (\n",
    "    BaseModelOutputWithPastAndCrossAttentions,\n",
    "    BaseModelOutputWithPoolingAndCrossAttentions,\n",
    "    MaskedLMOutput,\n",
    "    TokenClassifierOutput,\n",
    "    QuestionAnsweringModelOutput,\n",
    "    SequenceClassifierOutput,\n",
    ")\n",
    "from transformers.modeling_utils import PreTrainedModel, find_pruneable_heads_and_indices, prune_linear_layer\n",
    "from transformers.models.roberta.modeling_roberta import (\n",
    "    RobertaIntermediate,\n",
    "    RobertaLMHead,\n",
    "    RobertaOutput,\n",
    "    RobertaSelfOutput,\n",
    ")\n",
    "from transformers.utils import logging\n",
    "\n",
    "from configuration_layoutlmv3 import LayoutLMv3Config\n",
    "from timm.models.layers import to_2tuple\n"
   ]
  },
  {
   "cell_type": "code",
   "execution_count": 16,
   "metadata": {},
   "outputs": [],
   "source": [
    "img_size=(14, 14)\n",
    "max_len=1000\n",
    "visual_bbox_x = torch.div(torch.arange(0, max_len * (img_size[1] + 1), max_len),\n",
    "                                  img_size[1], rounding_mode='trunc')\n",
    "visual_bbox_x,torch.arange(0, max_len * (img_size[1] + 1), max_len)\n",
    "visual_bbox_y = torch.div(torch.arange(0, max_len * (img_size[0] + 1), max_len),\n",
    "                                  img_size[0], rounding_mode='trunc')"
   ]
  },
  {
   "cell_type": "code",
   "execution_count": 20,
   "metadata": {},
   "outputs": [
    {
     "data": {
      "text/plain": [
       "(torch.Size([196, 4]),\n",
       " tensor([[  0,   0,  71,  71],\n",
       "         [ 71,   0, 142,  71],\n",
       "         [142,   0, 214,  71]]))"
      ]
     },
     "execution_count": 20,
     "metadata": {},
     "output_type": "execute_result"
    }
   ],
   "source": [
    "visual_bbox = torch.stack(\n",
    "            [\n",
    "                visual_bbox_x[:-1].repeat(img_size[0], 1),\n",
    "                visual_bbox_y[:-1].repeat(img_size[1], 1).transpose(0, 1),\n",
    "                visual_bbox_x[1:].repeat(img_size[0], 1),\n",
    "                visual_bbox_y[1:].repeat(img_size[1], 1).transpose(0, 1),\n",
    "            ],\n",
    "            dim=-1,\n",
    "        ).view(-1, 4)\n",
    "visual_bbox.shape,visual_bbox[0:3,:]"
   ]
  },
  {
   "cell_type": "code",
   "execution_count": 22,
   "metadata": {},
   "outputs": [
    {
     "data": {
      "text/plain": [
       "torch.Size([197, 4])"
      ]
     },
     "execution_count": 22,
     "metadata": {},
     "output_type": "execute_result"
    }
   ],
   "source": [
    "cls_token_box = torch.tensor([[0 + 1, 0 + 1, max_len - 1, max_len - 1]])\n",
    "visual_bbox = torch.cat([cls_token_box, visual_bbox], dim=0)\n",
    "visual_bbox.shape"
   ]
  },
  {
   "cell_type": "code",
   "execution_count": 29,
   "metadata": {},
   "outputs": [
    {
     "data": {
      "text/plain": [
       "(torch.Size([3]),\n",
       " torch.Size([3, 3]),\n",
       " torch.Size([3, 6]),\n",
       " torch.Size([3, 2, 3]))"
      ]
     },
     "execution_count": 29,
     "metadata": {},
     "output_type": "execute_result"
    }
   ],
   "source": [
    "repeat=torch.randint(1,5,(3,))\n",
    "repeat.shape,repeat.repeat(3,1).shape,repeat.repeat(3,2).shape,repeat.repeat(3,2,1).shape"
   ]
  },
  {
   "cell_type": "code",
   "execution_count": 34,
   "metadata": {},
   "outputs": [
    {
     "ename": "RuntimeError",
     "evalue": "The expanded size of the tensor (-1) isn't allowed in a leading, non-existing dimension 1",
     "output_type": "error",
     "traceback": [
      "\u001b[0;31m---------------------------------------------------------------------------\u001b[0m",
      "\u001b[0;31mRuntimeError\u001b[0m                              Traceback (most recent call last)",
      "Cell \u001b[0;32mIn[34], line 1\u001b[0m\n\u001b[0;32m----> 1\u001b[0m repeat,\u001b[43mrepeat\u001b[49m\u001b[38;5;241;43m.\u001b[39;49m\u001b[43mexpand\u001b[49m\u001b[43m(\u001b[49m\u001b[38;5;241;43m3\u001b[39;49m\u001b[43m,\u001b[49m\u001b[38;5;241;43m-\u001b[39;49m\u001b[38;5;241;43m1\u001b[39;49m\u001b[43m,\u001b[49m\u001b[38;5;241;43m-\u001b[39;49m\u001b[38;5;241;43m1\u001b[39;49m\u001b[43m)\u001b[49m\n",
      "\u001b[0;31mRuntimeError\u001b[0m: The expanded size of the tensor (-1) isn't allowed in a leading, non-existing dimension 1"
     ]
    }
   ],
   "source": [
    "repeat,repeat.expand(3,-1,-1)"
   ]
  }
 ],
 "metadata": {
  "kernelspec": {
   "display_name": "Python 3.9.16 ('layoutlm')",
   "language": "python",
   "name": "python3"
  },
  "language_info": {
   "codemirror_mode": {
    "name": "ipython",
    "version": 3
   },
   "file_extension": ".py",
   "mimetype": "text/x-python",
   "name": "python",
   "nbconvert_exporter": "python",
   "pygments_lexer": "ipython3",
   "version": "3.9.16"
  },
  "orig_nbformat": 4,
  "vscode": {
   "interpreter": {
    "hash": "de034debe11f7729654b33b02be4b55ea534f15ffddb8c662884a49716ec2aff"
   }
  }
 },
 "nbformat": 4,
 "nbformat_minor": 2
}
